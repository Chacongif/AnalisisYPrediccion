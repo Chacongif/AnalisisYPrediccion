{
  "metadata": {
    "language_info": {
      "codemirror_mode": {
        "name": "python",
        "version": 3
      },
      "file_extension": ".py",
      "mimetype": "text/x-python",
      "name": "python",
      "nbconvert_exporter": "python",
      "pygments_lexer": "ipython3",
      "version": "3.8"
    },
    "kernelspec": {
      "name": "python",
      "display_name": "Python (Pyodide)",
      "language": "python"
    }
  },
  "nbformat_minor": 4,
  "nbformat": 4,
  "cells": [
    {
      "cell_type": "code",
      "source": "#Librerias a utlizar\nimport pandas as pd\n#import matplotlib.pyplot as plt\nimport numpy as np\nfrom sklearn.linear_model import LinearRegression\nfrom sklearn.metrics import mean_squared_error\nfrom sklearn.metrics import r2_score\nfrom sklearn.model_selection import train_test_split\n#from sklearn.preprocessing import StandardScaler\n#from sklearn import preprocessing",
      "metadata": {
        "trusted": true
      },
      "execution_count": 43,
      "outputs": []
    },
    {
      "cell_type": "code",
      "source": "data = pd.read_csv(\"DatosRegresion1.csv\")\ndata.head()\n\nX = data.iloc[:,1:].values\nY = data.iloc[:,:-22].values\nprint(X.shape)\nprint(Y.shape)\nprint('\\n')",
      "metadata": {
        "trusted": true
      },
      "execution_count": 61,
      "outputs": [
        {
          "name": "stdout",
          "text": "(766, 22)\n(766, 1)\n\n\n",
          "output_type": "stream"
        }
      ]
    },
    {
      "cell_type": "code",
      "source": "xtr, xte, ytr, yte = train_test_split(X,Y, test_size=0.3)\nprint(xtr.shape)\nprint(xte.shape)\nprint(ytr.shape)\nprint(yte.shape)",
      "metadata": {
        "trusted": true
      },
      "execution_count": 64,
      "outputs": [
        {
          "name": "stdout",
          "text": "(536, 22)\n(230, 22)\n(536, 1)\n(230, 1)\n",
          "output_type": "stream"
        }
      ]
    },
    {
      "cell_type": "code",
      "source": "reg = LinearRegression()\nreg = reg.fit(xtr,ytr)\nypred = reg.predict(xte)\nerror = np.sqrt(mean_squared_error(yte,ypred))\nr2 = reg.score(xtr,ytr)\nrel = (r2 / np.average(xtr))*100\n\nprint(\"Error value in the train data:\",error)\nprint('\\n')\nprint(\"Predicton Root Mean Square Error in the train data: \",r2)\nprint('\\n')\nprint('Percentage relative error in the train data: %', rel)",
      "metadata": {
        "trusted": true
      },
      "execution_count": 65,
      "outputs": [
        {
          "name": "stdout",
          "text": "Error value in the train data: 50.07572360297197\n\n\nPredicton Root Mean Square Error in the train data:  0.9406269408830759\n\n\nPercentage relative error in the train data: % 1.2660883198570787\n",
          "output_type": "stream"
        }
      ]
    },
    {
      "cell_type": "code",
      "source": "",
      "metadata": {},
      "execution_count": null,
      "outputs": []
    }
  ]
}